{
 "cells": [
  {
   "cell_type": "code",
   "execution_count": 1,
   "metadata": {},
   "outputs": [],
   "source": [
    "import cv2"
   ]
  },
  {
   "cell_type": "code",
   "execution_count": 2,
   "metadata": {},
   "outputs": [
    {
     "name": "stdout",
     "output_type": "stream",
     "text": [
      "\u001b[1;31mDocstring:\u001b[0m\n",
      "convertScaleAbs(src[, dst[, alpha[, beta]]]) -> dst\n",
      ".   @brief Scales, calculates absolute values, and converts the result to 8-bit.\n",
      ".   \n",
      ".   On each element of the input array, the function convertScaleAbs\n",
      ".   performs three operations sequentially: scaling, taking an absolute\n",
      ".   value, conversion to an unsigned 8-bit type:\n",
      ".   \\f[\\texttt{dst} (I)= \\texttt{saturate\\_cast<uchar>} (| \\texttt{src} (I)* \\texttt{alpha} +  \\texttt{beta} |)\\f]\n",
      ".   In case of multi-channel arrays, the function processes each channel\n",
      ".   independently. When the output is not 8-bit, the operation can be\n",
      ".   emulated by calling the Mat::convertTo method (or by using matrix\n",
      ".   expressions) and then by calculating an absolute value of the result.\n",
      ".   For example:\n",
      ".   @code{.cpp}\n",
      ".       Mat_<float> A(30,30);\n",
      ".       randu(A, Scalar(-100), Scalar(100));\n",
      ".       Mat_<float> B = A*5 + 3;\n",
      ".       B = abs(B);\n",
      ".       // Mat_<float> B = abs(A*5+3) will also do the job,\n",
      ".       // but it will allocate a temporary matrix\n",
      ".   @endcode\n",
      ".   @param src input array.\n",
      ".   @param dst output array.\n",
      ".   @param alpha optional scale factor.\n",
      ".   @param beta optional delta added to the scaled values.\n",
      ".   @sa  Mat::convertTo, cv::abs(const Mat&)\n",
      "\u001b[1;31mType:\u001b[0m      builtin_function_or_method"
     ]
    }
   ],
   "source": [
    "cv2.convertScaleAbs?"
   ]
  },
  {
   "cell_type": "code",
   "execution_count": null,
   "metadata": {},
   "outputs": [],
   "source": [
    "import numpy as n"
   ]
  }
 ],
 "metadata": {
  "kernelspec": {
   "display_name": "cv",
   "language": "python",
   "name": "python3"
  },
  "language_info": {
   "codemirror_mode": {
    "name": "ipython",
    "version": 3
   },
   "file_extension": ".py",
   "mimetype": "text/x-python",
   "name": "python",
   "nbconvert_exporter": "python",
   "pygments_lexer": "ipython3",
   "version": "3.9.15"
  },
  "orig_nbformat": 4
 },
 "nbformat": 4,
 "nbformat_minor": 2
}
