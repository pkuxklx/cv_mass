{
 "cells": [
  {
   "cell_type": "code",
   "execution_count": 1,
   "metadata": {},
   "outputs": [
    {
     "data": {
      "text/plain": [
       "<Figure size 640x480 with 0 Axes>"
      ]
     },
     "metadata": {},
     "output_type": "display_data"
    }
   ],
   "source": [
    "import cv2\n",
    "import matplotlib.pyplot as plt\n",
    "import numpy as np\n",
    "import copy\n",
    "\n",
    "plt.set_cmap('gray')\n",
    "scale = 2\n",
    "plt.rcParams['figure.figsize'] = (2 * scale, scale)"
   ]
  },
  {
   "cell_type": "code",
   "execution_count": 2,
   "metadata": {},
   "outputs": [
    {
     "name": "stdout",
     "output_type": "stream",
     "text": [
      "(1320, 1406)\n"
     ]
    },
    {
     "data": {
      "text/plain": [
       "<matplotlib.image.AxesImage at 0x26252706c10>"
      ]
     },
     "execution_count": 2,
     "metadata": {},
     "output_type": "execute_result"
    },
    {
     "data": {
      "image/png": "[encoded data removed]",
      "text/plain": [
       "<Figure size 400x200 with 1 Axes>"
      ]
     },
     "metadata": {},
     "output_type": "display_data"
    }
   ],
   "source": [
    "im = cv2.imread('pic/after_morpho.png', flags = cv2.IMREAD_GRAYSCALE)\n",
    "print(im.shape)\n",
    "plt.imshow(im)"
   ]
  },
  {
   "attachments": {},
   "cell_type": "markdown",
   "metadata": {},
   "source": [
    "# Zhang2005\n",
    "### get contours"
   ]
  },
  {
   "cell_type": "code",
   "execution_count": 3,
   "metadata": {},
   "outputs": [
    {
     "name": "stdout",
     "output_type": "stream",
     "text": [
      "16\n"
     ]
    }
   ],
   "source": [
    "contours, hierarchy = cv2.findContours(im, mode = cv2.RETR_TREE, method = cv2.CHAIN_APPROX_NONE)\n",
    "print(len(contours))"
   ]
  },
  {
   "cell_type": "code",
   "execution_count": 4,
   "metadata": {},
   "outputs": [
    {
     "name": "stdout",
     "output_type": "stream",
     "text": [
      "0-th Contour area is 25351.0\n",
      "Center at (1142.742331006009, 815.9270508724178)\n",
      "3-th Contour area is 61655.5\n",
      "Center at (132.2667510062633, 675.1580853830287)\n",
      "7-th Contour area is 31779.5\n",
      "Center at (529.7777602962077, 300.00640349911106)\n",
      "13-th Contour area is 83001.0\n",
      "Center at (984.7595792018569, 402.19946346027956)\n"
     ]
    }
   ],
   "source": [
    "bkg = np.zeros_like(im)\n",
    "new_contours = []\n",
    "\n",
    "for i, cnt in enumerate(contours):\n",
    "    area = cv2.contourArea(contour = cnt, oriented = False)\n",
    "    if area < 8000:\n",
    "        continue\n",
    "    new_contours.append(cnt)\n",
    "    print(f'{i}-th Contour area is {area}')\n",
    "    M = cv2.moments(cnt)\n",
    "    cx = M['m10'] / M['m00']\n",
    "    cy = M['m01'] / M['m00']\n",
    "    print(f'Center at {(cx, cy)}')\n",
    "    # draw contour\n",
    "    tmp_bkg = copy.deepcopy(bkg) # cv2.drawContour, destination image\n",
    "    im_cnt = cv2.drawContours(image = tmp_bkg, contours = contours, contourIdx = i, color = 127, thickness = 3)\n",
    "    # plt.imshow(im_cnt)\n",
    "    # plt.show()"
   ]
  },
  {
   "cell_type": "code",
   "execution_count": 5,
   "metadata": {},
   "outputs": [],
   "source": [
    "# 保存\n",
    "for i, cnt in enumerate(new_contours):\n",
    "    np.savetxt(fname = f'data/contour/cnt{i}.txt', X = cnt.squeeze())"
   ]
  },
  {
   "attachments": {},
   "cell_type": "markdown",
   "metadata": {},
   "source": [
    "# Zhang2005\n",
    "### fit ellipse"
   ]
  },
  {
   "cell_type": "code",
   "execution_count": 6,
   "metadata": {},
   "outputs": [
    {
     "name": "stdout",
     "output_type": "stream",
     "text": [
      "(912, 1, 2)\n"
     ]
    },
    {
     "name": "stderr",
     "output_type": "stream",
     "text": [
      "C:\\Users\\lx\\AppData\\Local\\Temp\\ipykernel_9720\\2630948545.py:1: DeprecationWarning: loadtxt(): Parsing an integer via a float is deprecated.  To avoid this warning, you can:\n",
      "    * make sure the original data is stored as integers.\n",
      "    * use the `converters=` keyword argument.  If you only use\n",
      "      NumPy 1.23 or later, `converters=float` will normally work.\n",
      "    * Use `np.loadtxt(...).astype(np.int64)` parsing the file as\n",
      "      floating point and then convert it.  (On all NumPy versions.)\n",
      "  (Deprecated NumPy 1.23)\n",
      "  cnt = np.loadtxt(fname = 'data/contour/cnt0.txt', dtype =np.int32)[:, np.newaxis, :]\n"
     ]
    }
   ],
   "source": [
    "cnt = np.loadtxt(fname = 'data/contour/cnt0.txt', dtype =np.int32)[:, np.newaxis, :]\n",
    "# sq_cnt_moveForward = np.delete(sq_cnt, obj = 0, axis = 0)\n",
    "print(cnt.shape)"
   ]
  },
  {
   "cell_type": "code",
   "execution_count": 7,
   "metadata": {},
   "outputs": [
    {
     "name": "stdout",
     "output_type": "stream",
     "text": [
      "The boundary of this contour is from (1065, 636) to (1210, 982).\n"
     ]
    },
    {
     "data": {
      "image/png": "[encoded data removed]",
      "text/plain": [
       "<Figure size 400x200 with 1 Axes>"
      ]
     },
     "metadata": {},
     "output_type": "display_data"
    }
   ],
   "source": [
    "from show_pics import *\n",
    "zoom_show_contour(im, cnt)"
   ]
  },
  {
   "attachments": {},
   "cell_type": "markdown",
   "metadata": {},
   "source": [
    "randomly choose 6 points from the contour"
   ]
  },
  {
   "cell_type": "code",
   "execution_count": 8,
   "metadata": {},
   "outputs": [
    {
     "name": "stdout",
     "output_type": "stream",
     "text": [
      "1 0 0.0\n",
      "overlap ratio 0.6866810368439482=17455/25419.370950193777\n",
      "2 1 0.5\n",
      "overlap ratio 0.7410766117802585=18413/24846.284051209215\n",
      "3 2 0.6666666666666666\n",
      "4 2 0.5\n",
      "5 2 0.4\n",
      "6 2 0.3333333333333333\n",
      "overlap ratio 0.6890251253821079=16566/24042.664613736848\n",
      "7 3 0.42857142857142855\n",
      "8 3 0.375\n",
      "9 3 0.3333333333333333\n",
      "10 3 0.3\n",
      "overlap ratio 0.6980970600970865=19997/28645.013914281426\n",
      "11 4 0.36363636363636365\n",
      "overlap ratio 0.6408009291340955=16811/26234.35646811007\n",
      "12 5 0.4166666666666667\n",
      "13 5 0.38461538461538464\n",
      "overlap ratio 0.659549913690472=16613/25188.38931695549\n",
      "14 6 0.42857142857142855\n",
      "15 6 0.4\n",
      "overlap ratio 0.6998581378323626=20293/28995.876311237225\n",
      "16 7 0.4375\n",
      "17 7 0.4117647058823529\n",
      "overlap ratio 0.7866108108186974=19313/24552.1670111541\n",
      "18 8 0.4444444444444444\n",
      "overlap ratio 0.7269873847187694=18905/26004.577792382577\n",
      "19 9 0.47368421052631576\n",
      "20 9 0.45\n",
      "21 9 0.42857142857142855\n",
      "22 9 0.4090909090909091\n",
      "23 9 0.391304347826087\n",
      "24 9 0.375\n",
      "25 9 0.36\n",
      "overlap ratio 0.7016738058517368=15747/22442.05194589711\n",
      "26 10 0.38461538461538464\n",
      "27 10 0.37037037037037035\n",
      "28 10 0.35714285714285715\n",
      "overlap ratio 0.6667436084203842=15356/23031.341892246513\n",
      "29 11 0.3793103448275862\n",
      "30 11 0.36666666666666664\n",
      "overlap ratio 0.7494910552783146=17787/23732.104439051654\n",
      "31 12 0.3870967741935484\n",
      "32 12 0.375\n"
     ]
    },
    {
     "ename": "KeyboardInterrupt",
     "evalue": "",
     "output_type": "error",
     "traceback": [
      "\u001b[1;31m---------------------------------------------------------------------------\u001b[0m",
      "\u001b[1;31mKeyboardInterrupt\u001b[0m                         Traceback (most recent call last)",
      "Cell \u001b[1;32mIn[8], line 22\u001b[0m\n\u001b[0;32m     19\u001b[0m     cv2\u001b[39m.\u001b[39mdrawContours(bkg, contours \u001b[39m=\u001b[39m [cnt], contourIdx \u001b[39m=\u001b[39m \u001b[39m0\u001b[39m, color \u001b[39m=\u001b[39m \u001b[39m255\u001b[39m, thickness \u001b[39m=\u001b[39m \u001b[39m2\u001b[39m)    \n\u001b[0;32m     20\u001b[0m     \u001b[39m# zoom_show_contour(image_done = bkg, margin = 10)\u001b[39;00m\n\u001b[1;32m---> 22\u001b[0m     \u001b[39mif\u001b[39;00m valid_ellipse(ellipse, cnt):\n\u001b[0;32m     23\u001b[0m         elps_set\u001b[39m.\u001b[39mappend(ellipse)\n\u001b[0;32m     26\u001b[0m \u001b[39mprint\u001b[39m(\u001b[39mf\u001b[39m\u001b[39m'\u001b[39m\u001b[39m{\u001b[39;00m\u001b[39mlen\u001b[39m(elps_set)\u001b[39m}\u001b[39;00m\u001b[39m ellipses are collected.\u001b[39m\u001b[39m'\u001b[39m)\n",
      "File \u001b[1;32md:\\BaiduSyncdisk\\COURSES\\diploma_proj\\cv_mass\\Ellipse.py:28\u001b[0m, in \u001b[0;36mvalid_ellipse\u001b[1;34m(ellipse, contour)\u001b[0m\n\u001b[0;32m     26\u001b[0m bkg \u001b[39m=\u001b[39m np\u001b[39m.\u001b[39mzeros((\u001b[39m2000\u001b[39m, \u001b[39m2000\u001b[39m))\n\u001b[0;32m     27\u001b[0m cv2\u001b[39m.\u001b[39mdrawContours(bkg, [contour], \u001b[39m0\u001b[39m, \u001b[39m255\u001b[39m, thickness \u001b[39m=\u001b[39m \u001b[39m-\u001b[39m\u001b[39m1\u001b[39m) \u001b[39m# thickness<0，填充内部\u001b[39;00m\n\u001b[1;32m---> 28\u001b[0m points \u001b[39m=\u001b[39m [(x, y) \u001b[39mfor\u001b[39;00m x \u001b[39min\u001b[39;00m \u001b[39mrange\u001b[39m(bkg\u001b[39m.\u001b[39mshape[\u001b[39m1\u001b[39m]) \u001b[39mfor\u001b[39;00m y \u001b[39min\u001b[39;00m \u001b[39mrange\u001b[39m(bkg\u001b[39m.\u001b[39mshape[\u001b[39m0\u001b[39m]) \u001b[39mif\u001b[39;00m bkg[y, x] \u001b[39m>\u001b[39m \u001b[39m0\u001b[39m]\n\u001b[0;32m     29\u001b[0m points \u001b[39m=\u001b[39m np\u001b[39m.\u001b[39marray(points)\n\u001b[0;32m     30\u001b[0m S_ellipse \u001b[39m=\u001b[39m (np\u001b[39m.\u001b[39mpi \u001b[39m*\u001b[39m a \u001b[39m*\u001b[39m b) \u001b[39m/\u001b[39m \u001b[39m4\u001b[39m \u001b[39m# \u001b[39;00m\n",
      "File \u001b[1;32md:\\BaiduSyncdisk\\COURSES\\diploma_proj\\cv_mass\\Ellipse.py:28\u001b[0m, in \u001b[0;36m<listcomp>\u001b[1;34m(.0)\u001b[0m\n\u001b[0;32m     26\u001b[0m bkg \u001b[39m=\u001b[39m np\u001b[39m.\u001b[39mzeros((\u001b[39m2000\u001b[39m, \u001b[39m2000\u001b[39m))\n\u001b[0;32m     27\u001b[0m cv2\u001b[39m.\u001b[39mdrawContours(bkg, [contour], \u001b[39m0\u001b[39m, \u001b[39m255\u001b[39m, thickness \u001b[39m=\u001b[39m \u001b[39m-\u001b[39m\u001b[39m1\u001b[39m) \u001b[39m# thickness<0，填充内部\u001b[39;00m\n\u001b[1;32m---> 28\u001b[0m points \u001b[39m=\u001b[39m [(x, y) \u001b[39mfor\u001b[39;00m x \u001b[39min\u001b[39;00m \u001b[39mrange\u001b[39m(bkg\u001b[39m.\u001b[39mshape[\u001b[39m1\u001b[39m]) \u001b[39mfor\u001b[39;00m y \u001b[39min\u001b[39;00m \u001b[39mrange\u001b[39m(bkg\u001b[39m.\u001b[39mshape[\u001b[39m0\u001b[39m]) \u001b[39mif\u001b[39;00m bkg[y, x] \u001b[39m>\u001b[39m \u001b[39m0\u001b[39m]\n\u001b[0;32m     29\u001b[0m points \u001b[39m=\u001b[39m np\u001b[39m.\u001b[39marray(points)\n\u001b[0;32m     30\u001b[0m S_ellipse \u001b[39m=\u001b[39m (np\u001b[39m.\u001b[39mpi \u001b[39m*\u001b[39m a \u001b[39m*\u001b[39m b) \u001b[39m/\u001b[39m \u001b[39m4\u001b[39m \u001b[39m# \u001b[39;00m\n",
      "\u001b[1;31mKeyboardInterrupt\u001b[0m: "
     ]
    }
   ],
   "source": [
    "from Ellipse import valid_ellipse\n",
    "\n",
    "elps_set = []\n",
    "rep = 2000\n",
    "for i in range(rep):\n",
    "    l = len(elps_set)\n",
    "    print(i + 1, l, l / (i + 1))\n",
    "    selected_cols = np.random.default_rng(i).choice(cnt.shape[0], size = 6, replace = False)\n",
    "    points = cnt.squeeze()[selected_cols, :]\n",
    "\n",
    "    bkg = np.zeros_like(im, dtype = np.uint8)\n",
    "    cv2.drawContours(bkg, contours = [points], contourIdx = 0, color = 127, thickness = 2)\n",
    "\n",
    "    ellipse = cv2.fitEllipse(points)\n",
    "    cv2.ellipse(bkg, ellipse, color = 127, thickness = 2) \n",
    "\n",
    "    # print(ellipse)\n",
    "\n",
    "    cv2.drawContours(bkg, contours = [cnt], contourIdx = 0, color = 255, thickness = 2)    \n",
    "    # zoom_show_contour(image_done = bkg, margin = 10)\n",
    "\n",
    "    if valid_ellipse(ellipse, cnt):\n",
    "        elps_set.append(ellipse)\n",
    "    \n",
    "        \n",
    "print(f'{len(elps_set)} ellipses are collected.')"
   ]
  },
  {
   "cell_type": "code",
   "execution_count": null,
   "metadata": {},
   "outputs": [],
   "source": [
    "data = [[*e[0], *e[1], e[2]] for e in elps_set] # flatten\n",
    "np.savetxt(fname = f'elps_set_i={i}.txt', X = data)"
   ]
  },
  {
   "attachments": {},
   "cell_type": "markdown",
   "metadata": {},
   "source": [
    "### K-means"
   ]
  },
  {
   "cell_type": "code",
   "execution_count": 9,
   "metadata": {},
   "outputs": [],
   "source": [
    "data = np.loadtxt(fname = 'data/ellipse/elps_cnt0_i=417.txt')\n",
    "# elps_set = list(map(lambda e: [[e[0], e[1]], [e[2], e[3]], e[4]], data))\n",
    "to_cv_elps = lambda e: [[e[0], e[1]], [e[2], e[3]], e[4]]"
   ]
  },
  {
   "cell_type": "code",
   "execution_count": 10,
   "metadata": {},
   "outputs": [
    {
     "data": {
      "text/html": [
       "<style>#sk-container-id-1 {color: black;background-color: white;}#sk-container-id-1 pre{padding: 0;}#sk-container-id-1 div.sk-toggleable {background-color: white;}#sk-container-id-1 label.sk-toggleable__label {cursor: pointer;display: block;width: 100%;margin-bottom: 0;padding: 0.3em;box-sizing: border-box;text-align: center;}#sk-container-id-1 label.sk-toggleable__label-arrow:before {content: \"▸\";float: left;margin-right: 0.25em;color: #696969;}#sk-container-id-1 label.sk-toggleable__label-arrow:hover:before {color: black;}#sk-container-id-1 div.sk-estimator:hover label.sk-toggleable__label-arrow:before {color: black;}#sk-container-id-1 div.sk-toggleable__content {max-height: 0;max-width: 0;overflow: hidden;text-align: left;background-color: #f0f8ff;}#sk-container-id-1 div.sk-toggleable__content pre {margin: 0.2em;color: black;border-radius: 0.25em;background-color: #f0f8ff;}#sk-container-id-1 input.sk-toggleable__control:checked~div.sk-toggleable__content {max-height: 200px;max-width: 100%;overflow: auto;}#sk-container-id-1 input.sk-toggleable__control:checked~label.sk-toggleable__label-arrow:before {content: \"▾\";}#sk-container-id-1 div.sk-estimator input.sk-toggleable__control:checked~label.sk-toggleable__label {background-color: #d4ebff;}#sk-container-id-1 div.sk-label input.sk-toggleable__control:checked~label.sk-toggleable__label {background-color: #d4ebff;}#sk-container-id-1 input.sk-hidden--visually {border: 0;clip: rect(1px 1px 1px 1px);clip: rect(1px, 1px, 1px, 1px);height: 1px;margin: -1px;overflow: hidden;padding: 0;position: absolute;width: 1px;}#sk-container-id-1 div.sk-estimator {font-family: monospace;background-color: #f0f8ff;border: 1px dotted black;border-radius: 0.25em;box-sizing: border-box;margin-bottom: 0.5em;}#sk-container-id-1 div.sk-estimator:hover {background-color: #d4ebff;}#sk-container-id-1 div.sk-parallel-item::after {content: \"\";width: 100%;border-bottom: 1px solid gray;flex-grow: 1;}#sk-container-id-1 div.sk-label:hover label.sk-toggleable__label {background-color: #d4ebff;}#sk-container-id-1 div.sk-serial::before {content: \"\";position: absolute;border-left: 1px solid gray;box-sizing: border-box;top: 0;bottom: 0;left: 50%;z-index: 0;}#sk-container-id-1 div.sk-serial {display: flex;flex-direction: column;align-items: center;background-color: white;padding-right: 0.2em;padding-left: 0.2em;position: relative;}#sk-container-id-1 div.sk-item {position: relative;z-index: 1;}#sk-container-id-1 div.sk-parallel {display: flex;align-items: stretch;justify-content: center;background-color: white;position: relative;}#sk-container-id-1 div.sk-item::before, #sk-container-id-1 div.sk-parallel-item::before {content: \"\";position: absolute;border-left: 1px solid gray;box-sizing: border-box;top: 0;bottom: 0;left: 50%;z-index: -1;}#sk-container-id-1 div.sk-parallel-item {display: flex;flex-direction: column;z-index: 1;position: relative;background-color: white;}#sk-container-id-1 div.sk-parallel-item:first-child::after {align-self: flex-end;width: 50%;}#sk-container-id-1 div.sk-parallel-item:last-child::after {align-self: flex-start;width: 50%;}#sk-container-id-1 div.sk-parallel-item:only-child::after {width: 0;}#sk-container-id-1 div.sk-dashed-wrapped {border: 1px dashed gray;margin: 0 0.4em 0.5em 0.4em;box-sizing: border-box;padding-bottom: 0.4em;background-color: white;}#sk-container-id-1 div.sk-label label {font-family: monospace;font-weight: bold;display: inline-block;line-height: 1.2em;}#sk-container-id-1 div.sk-label-container {text-align: center;}#sk-container-id-1 div.sk-container {/* jupyter's `normalize.less` sets `[hidden] { display: none; }` but bootstrap.min.css set `[hidden] { display: none !important; }` so we also need the `!important` here to be able to override the default hidden behavior on the sphinx rendered scikit-learn.org. See: https://github.com/scikit-learn/scikit-learn/issues/21755 */display: inline-block !important;position: relative;}#sk-container-id-1 div.sk-text-repr-fallback {display: none;}</style><div id=\"sk-container-id-1\" class=\"sk-top-container\"><div class=\"sk-text-repr-fallback\"><pre>KMedoids(metric=&lt;function custom_distance at 0x00000262527FAA60&gt;, n_clusters=3)</pre><b>In a Jupyter environment, please rerun this cell to show the HTML representation or trust the notebook. <br />On GitHub, the HTML representation is unable to render, please try loading this page with nbviewer.org.</b></div><div class=\"sk-container\" hidden><div class=\"sk-item\"><div class=\"sk-estimator sk-toggleable\"><input class=\"sk-toggleable__control sk-hidden--visually\" id=\"sk-estimator-id-1\" type=\"checkbox\" checked><label for=\"sk-estimator-id-1\" class=\"sk-toggleable__label sk-toggleable__label-arrow\">KMedoids</label><div class=\"sk-toggleable__content\"><pre>KMedoids(metric=&lt;function custom_distance at 0x00000262527FAA60&gt;, n_clusters=3)</pre></div></div></div></div></div>"
      ],
      "text/plain": [
       "KMedoids(metric=<function custom_distance at 0x00000262527FAA60>, n_clusters=3)"
      ]
     },
     "execution_count": 10,
     "metadata": {},
     "output_type": "execute_result"
    }
   ],
   "source": [
    "def custom_distance(x1, x2):\n",
    "    euclidean_distance = np.linalg.norm(x1[:-1] - x2[:-1]) # L2 norm\n",
    "    angle_distance = min(abs(x1[-1] - x2[-1]), 180 - abs(x1[-1] - x2[-1]))\n",
    "    return (euclidean_distance ** 2 + angle_distance ** 2) ** 0.5\n",
    "\n",
    "from sklearn_extra.cluster import KMedoids\n",
    "kmedoids = KMedoids(n_clusters = 3, metric = custom_distance)\n",
    "kmedoids.fit(data)\n",
    "# kmedoids.labels_"
   ]
  },
  {
   "cell_type": "code",
   "execution_count": 11,
   "metadata": {},
   "outputs": [
    {
     "name": "stderr",
     "output_type": "stream",
     "text": [
      "Clipping input data to the valid range for imshow with RGB data ([0..1] for floats or [0..255] for integers).\n"
     ]
    },
    {
     "name": "stdout",
     "output_type": "stream",
     "text": [
      "The boundary of this contour is from (1052, 578) to (1221, 1054).\n"
     ]
    },
    {
     "data": {
      "image/png": "[encoded data removed]",
      "text/plain": [
       "<Figure size 400x200 with 1 Axes>"
      ]
     },
     "metadata": {},
     "output_type": "display_data"
    }
   ],
   "source": [
    "colors = [[255, 0, 0], [0, 255, 0], [0, 0, 255], [255, 255, 0], [255, 0, 255], [0, 255, 255], [128, 128, 128], [0, 0, 0], [128, 0, 128], [255, 165, 0]]\n",
    "bkg = np.zeros((*im.shape, 3))\n",
    "for i, elps in enumerate(data):\n",
    "    elps = to_cv_elps(elps)\n",
    "    color = colors[kmedoids.labels_[i]]\n",
    "    cv2.ellipse(bkg, elps, color, thickness = 1)\n",
    "zoom_show_contour(image_done = bkg)\n",
    "# plt.imshow(bkg)"
   ]
  },
  {
   "cell_type": "code",
   "execution_count": 12,
   "metadata": {},
   "outputs": [
    {
     "name": "stdout",
     "output_type": "stream",
     "text": [
      "The boundary of this contour is from (1050, 576) to (1223, 1056).\n"
     ]
    },
    {
     "data": {
      "image/png": "[encoded data removed]",
      "text/plain": [
       "<Figure size 400x200 with 1 Axes>"
      ]
     },
     "metadata": {},
     "output_type": "display_data"
    }
   ],
   "source": [
    "bkg = np.zeros_like(im, dtype = np.uint8)\n",
    "for e in data:\n",
    "    elps = [[e[0], e[1]], [e[2], e[3]], e[4]]\n",
    "    cv2.ellipse(bkg, elps, color = 127, thickness = 3)\n",
    "# _ = cv2.drawContours(bkg, contours = [cnt], contourIdx = 0, color = 255, thickness = 5)\n",
    "from show_pics import zoom_show_contour\n",
    "zoom_show_contour(image_done = bkg)"
   ]
  },
  {
   "attachments": {},
   "cell_type": "markdown",
   "metadata": {},
   "source": [
    "https://www.geeksforgeeks.org/ml-determine-the-optimal-value-of-k-in-k-means-clustering/"
   ]
  },
  {
   "cell_type": "code",
   "execution_count": 13,
   "metadata": {},
   "outputs": [
    {
     "name": "stderr",
     "output_type": "stream",
     "text": [
      "d:\\anaconda3\\envs\\cv\\lib\\site-packages\\sklearn\\cluster\\_kmeans.py:870: FutureWarning: The default value of `n_init` will change from 10 to 'auto' in 1.4. Set the value of `n_init` explicitly to suppress the warning\n",
      "  warnings.warn(\n",
      "d:\\anaconda3\\envs\\cv\\lib\\site-packages\\sklearn\\cluster\\_kmeans.py:1382: UserWarning: KMeans is known to have a memory leak on Windows with MKL, when there are less chunks than available threads. You can avoid it by setting the environment variable OMP_NUM_THREADS=1.\n",
      "  warnings.warn(\n",
      "d:\\anaconda3\\envs\\cv\\lib\\site-packages\\sklearn\\cluster\\_kmeans.py:870: FutureWarning: The default value of `n_init` will change from 10 to 'auto' in 1.4. Set the value of `n_init` explicitly to suppress the warning\n",
      "  warnings.warn(\n",
      "d:\\anaconda3\\envs\\cv\\lib\\site-packages\\sklearn\\cluster\\_kmeans.py:1382: UserWarning: KMeans is known to have a memory leak on Windows with MKL, when there are less chunks than available threads. You can avoid it by setting the environment variable OMP_NUM_THREADS=1.\n",
      "  warnings.warn(\n",
      "d:\\anaconda3\\envs\\cv\\lib\\site-packages\\sklearn\\cluster\\_kmeans.py:870: FutureWarning: The default value of `n_init` will change from 10 to 'auto' in 1.4. Set the value of `n_init` explicitly to suppress the warning\n",
      "  warnings.warn(\n",
      "d:\\anaconda3\\envs\\cv\\lib\\site-packages\\sklearn\\cluster\\_kmeans.py:1382: UserWarning: KMeans is known to have a memory leak on Windows with MKL, when there are less chunks than available threads. You can avoid it by setting the environment variable OMP_NUM_THREADS=1.\n",
      "  warnings.warn(\n",
      "d:\\anaconda3\\envs\\cv\\lib\\site-packages\\sklearn\\cluster\\_kmeans.py:870: FutureWarning: The default value of `n_init` will change from 10 to 'auto' in 1.4. Set the value of `n_init` explicitly to suppress the warning\n",
      "  warnings.warn(\n",
      "d:\\anaconda3\\envs\\cv\\lib\\site-packages\\sklearn\\cluster\\_kmeans.py:1382: UserWarning: KMeans is known to have a memory leak on Windows with MKL, when there are less chunks than available threads. You can avoid it by setting the environment variable OMP_NUM_THREADS=1.\n",
      "  warnings.warn(\n",
      "d:\\anaconda3\\envs\\cv\\lib\\site-packages\\sklearn\\cluster\\_kmeans.py:870: FutureWarning: The default value of `n_init` will change from 10 to 'auto' in 1.4. Set the value of `n_init` explicitly to suppress the warning\n",
      "  warnings.warn(\n",
      "d:\\anaconda3\\envs\\cv\\lib\\site-packages\\sklearn\\cluster\\_kmeans.py:1382: UserWarning: KMeans is known to have a memory leak on Windows with MKL, when there are less chunks than available threads. You can avoid it by setting the environment variable OMP_NUM_THREADS=1.\n",
      "  warnings.warn(\n",
      "d:\\anaconda3\\envs\\cv\\lib\\site-packages\\sklearn\\cluster\\_kmeans.py:870: FutureWarning: The default value of `n_init` will change from 10 to 'auto' in 1.4. Set the value of `n_init` explicitly to suppress the warning\n",
      "  warnings.warn(\n",
      "d:\\anaconda3\\envs\\cv\\lib\\site-packages\\sklearn\\cluster\\_kmeans.py:1382: UserWarning: KMeans is known to have a memory leak on Windows with MKL, when there are less chunks than available threads. You can avoid it by setting the environment variable OMP_NUM_THREADS=1.\n",
      "  warnings.warn(\n",
      "d:\\anaconda3\\envs\\cv\\lib\\site-packages\\sklearn\\cluster\\_kmeans.py:870: FutureWarning: The default value of `n_init` will change from 10 to 'auto' in 1.4. Set the value of `n_init` explicitly to suppress the warning\n",
      "  warnings.warn(\n",
      "d:\\anaconda3\\envs\\cv\\lib\\site-packages\\sklearn\\cluster\\_kmeans.py:1382: UserWarning: KMeans is known to have a memory leak on Windows with MKL, when there are less chunks than available threads. You can avoid it by setting the environment variable OMP_NUM_THREADS=1.\n",
      "  warnings.warn(\n",
      "d:\\anaconda3\\envs\\cv\\lib\\site-packages\\sklearn\\cluster\\_kmeans.py:870: FutureWarning: The default value of `n_init` will change from 10 to 'auto' in 1.4. Set the value of `n_init` explicitly to suppress the warning\n",
      "  warnings.warn(\n",
      "d:\\anaconda3\\envs\\cv\\lib\\site-packages\\sklearn\\cluster\\_kmeans.py:1382: UserWarning: KMeans is known to have a memory leak on Windows with MKL, when there are less chunks than available threads. You can avoid it by setting the environment variable OMP_NUM_THREADS=1.\n",
      "  warnings.warn(\n",
      "d:\\anaconda3\\envs\\cv\\lib\\site-packages\\sklearn\\cluster\\_kmeans.py:870: FutureWarning: The default value of `n_init` will change from 10 to 'auto' in 1.4. Set the value of `n_init` explicitly to suppress the warning\n",
      "  warnings.warn(\n",
      "d:\\anaconda3\\envs\\cv\\lib\\site-packages\\sklearn\\cluster\\_kmeans.py:1382: UserWarning: KMeans is known to have a memory leak on Windows with MKL, when there are less chunks than available threads. You can avoid it by setting the environment variable OMP_NUM_THREADS=1.\n",
      "  warnings.warn(\n",
      "d:\\anaconda3\\envs\\cv\\lib\\site-packages\\sklearn\\cluster\\_kmeans.py:870: FutureWarning: The default value of `n_init` will change from 10 to 'auto' in 1.4. Set the value of `n_init` explicitly to suppress the warning\n",
      "  warnings.warn(\n",
      "d:\\anaconda3\\envs\\cv\\lib\\site-packages\\sklearn\\cluster\\_kmeans.py:1382: UserWarning: KMeans is known to have a memory leak on Windows with MKL, when there are less chunks than available threads. You can avoid it by setting the environment variable OMP_NUM_THREADS=1.\n",
      "  warnings.warn(\n"
     ]
    },
    {
     "data": {
      "image/png": "[encoded data removed]",
      "text/plain": [
       "<Figure size 400x200 with 1 Axes>"
      ]
     },
     "metadata": {},
     "output_type": "display_data"
    }
   ],
   "source": [
    "from sklearn.cluster import KMeans\n",
    "\n",
    "!! feature scaling\n",
    "\n",
    "cost = []\n",
    "for i in range(1, 11):\n",
    "    KM = KMeans(n_clusters = i, max_iter = 500)\n",
    "    KM.fit(X = data)\n",
    "     \n",
    "    # calculates squared error\n",
    "    # for the clustered points\n",
    "    cost.append(KM.inertia_)    \n",
    " \n",
    "# plot the cost against K values\n",
    "plt.plot(range(1, 11), cost, color ='g', linewidth ='3')\n",
    "plt.xlabel(\"Value of K\")\n",
    "plt.ylabel(\"Squared Error (Cost)\")\n",
    "plt.show() # clear the plot\n",
    " \n",
    "# the point of the elbow is the\n",
    "# most optimal value for choosing k"
   ]
  },
  {
   "cell_type": "code",
   "execution_count": 14,
   "metadata": {},
   "outputs": [],
   "source": [
    "# from data_generation import get_data_from_contour"
   ]
  },
  {
   "cell_type": "code",
   "execution_count": 15,
   "metadata": {},
   "outputs": [
    {
     "ename": "NameError",
     "evalue": "name 'get_data_from_contour' is not defined",
     "output_type": "error",
     "traceback": [
      "\u001b[1;31m---------------------------------------------------------------------------\u001b[0m",
      "\u001b[1;31mNameError\u001b[0m                                 Traceback (most recent call last)",
      "Cell \u001b[1;32mIn[15], line 1\u001b[0m\n\u001b[1;32m----> 1\u001b[0m points \u001b[39m=\u001b[39m get_data_from_contour(contour \u001b[39m=\u001b[39m cnt, draw \u001b[39m=\u001b[39m \u001b[39mTrue\u001b[39;00m, seed \u001b[39m=\u001b[39m \u001b[39m1\u001b[39m)[:, \u001b[39m3\u001b[39m:\u001b[39m5\u001b[39m]\n\u001b[0;32m      2\u001b[0m \u001b[39mprint\u001b[39m(points)\n\u001b[0;32m      3\u001b[0m points\u001b[39m.\u001b[39mdtype \u001b[39m=\u001b[39m np\u001b[39m.\u001b[39muint8\n",
      "\u001b[1;31mNameError\u001b[0m: name 'get_data_from_contour' is not defined"
     ]
    }
   ],
   "source": [
    "points = get_data_from_contour(contour = cnt, draw = True, seed = 1)[:, 3:5]\n",
    "print(points)\n",
    "points.dtype = np.uint8\n",
    "print(points)\n",
    "bkg = np.zeros_like(im, dtype = np.uint8)\n",
    "cv2.drawContours(bkg, contours = [points], contourIdx = 0, color = 255, thickness = 2)\n",
    "plt.imshow(bkg)"
   ]
  },
  {
   "cell_type": "code",
   "execution_count": null,
   "metadata": {},
   "outputs": [
    {
     "data": {
      "text/plain": [
       "(1, 2)"
      ]
     },
     "execution_count": 53,
     "metadata": {},
     "output_type": "execute_result"
    }
   ],
   "source": [
    "tuple([1,2])"
   ]
  },
  {
   "cell_type": "code",
   "execution_count": null,
   "metadata": {},
   "outputs": [
    {
     "data": {
      "text/plain": [
       "<matplotlib.image.AxesImage at 0x2595b313b20>"
      ]
     },
     "execution_count": 22,
     "metadata": {},
     "output_type": "execute_result"
    },
    {
     "data": {
      "image/png": "[encoded data removed]",
      "text/plain": [
       "<Figure size 400x200 with 1 Axes>"
      ]
     },
     "metadata": {},
     "output_type": "display_data"
    }
   ],
   "source": [
    "# create a list of 6 points (x, y) coordinates\n",
    "points = np.array([(50, 50), (100, 150), (150, 100), (200, 200), (250, 150), (300, 50)])\n",
    "\n",
    "# create a black image with a white contour passing through the 6 points\n",
    "image = np.zeros((400, 400), dtype = np.uint8)\n",
    "cv2.drawContours(image, contours = [points], contourIdx = 0, color = 255, thickness = 2)\n",
    "plt.imshow(image)"
   ]
  },
  {
   "cell_type": "code",
   "execution_count": null,
   "metadata": {},
   "outputs": [
    {
     "name": "stdout",
     "output_type": "stream",
     "text": [
      "((174.86366271972656, -10.702613830566406), (261.1877136230469, 393.1482849121094), 174.23387145996094)\n"
     ]
    },
    {
     "data": {
      "image/png": "[encoded data removed]",
      "text/plain": [
       "<Figure size 400x200 with 1 Axes>"
      ]
     },
     "metadata": {},
     "output_type": "display_data"
    }
   ],
   "source": [
    "# fit an ellipse to the contour using the cv2.fitEllipse() function\n",
    "ellipse = cv2.fitEllipse(points)\n",
    "print(ellipse)\n",
    "\n",
    "# draw the fitted ellipse on the image\n",
    "bkg_a = np.zeros_like(image)\n",
    "cv2.ellipse(bkg_a, ellipse, color = 255 ,thickness = 3) \n",
    "\n",
    "# display the image\n",
    "# cv2.imshow(\"Fitted Ellipse\", image)\n",
    "# cv2.waitKey(0)\n",
    "# cv2.destroyAllWindows()\n",
    "plt.imshow(bkg_a);"
   ]
  },
  {
   "cell_type": "code",
   "execution_count": null,
   "metadata": {},
   "outputs": [
    {
     "data": {
      "text/plain": [
       "((174.86366271972656, -10.702613830566406),\n",
       " (261.1877136230469, 393.1482849121094),\n",
       " 174.23387145996094)"
      ]
     },
     "execution_count": 11,
     "metadata": {},
     "output_type": "execute_result"
    }
   ],
   "source": [
    "ellipse"
   ]
  },
  {
   "cell_type": "code",
   "execution_count": null,
   "metadata": {},
   "outputs": [],
   "source": []
  }
 ],
 "metadata": {
  "kernelspec": {
   "display_name": "cv",
   "language": "python",
   "name": "python3"
  },
  "language_info": {
   "codemirror_mode": {
    "name": "ipython",
    "version": 3
   },
   "file_extension": ".py",
   "mimetype": "text/x-python",
   "name": "python",
   "nbconvert_exporter": "python",
   "pygments_lexer": "ipython3",
   "version": "3.9.15"
  },
  "orig_nbformat": 4
 },
 "nbformat": 4,
 "nbformat_minor": 2
}
